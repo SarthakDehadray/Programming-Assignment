{
  "metadata": {
    "language_info": {
      "codemirror_mode": {
        "name": "python",
        "version": 3
      },
      "file_extension": ".py",
      "mimetype": "text/x-python",
      "name": "python",
      "nbconvert_exporter": "python",
      "pygments_lexer": "ipython3",
      "version": "3.8"
    },
    "kernelspec": {
      "name": "python",
      "display_name": "Pyolite",
      "language": "python"
    }
  },
  "nbformat_minor": 4,
  "nbformat": 4,
  "cells": [
    {
      "cell_type": "code",
      "source": "#1)\na = float(input(\"Enter length in km\"))\nprint(a,\"km =\",a*1.5,'miles')",
      "metadata": {},
      "execution_count": null,
      "outputs": []
    },
    {
      "cell_type": "code",
      "source": "#2)\nb = float(input(\"Enter temperature in Celsius\"))\nprint(b,'Celsius =',b*(5/9)+32,'Fahrenheit')",
      "metadata": {},
      "execution_count": null,
      "outputs": []
    },
    {
      "cell_type": "code",
      "source": "#3)\nimport calendar\nyy = 2017\nmm = 11\nprint(calendar.month(yy,mm))",
      "metadata": {},
      "execution_count": null,
      "outputs": []
    },
    {
      "cell_type": "code",
      "source": "#4)\na = float(input(\"Enter coeffecient of x\\u00b2\"))\nb = float(input(\"Enter coeffecient of x\"))\nc = float(input(\"Enter constant term\"))\nd = (b*b - 4*a*c)\nprint('value of discrminant is',d)\nif (b*b - 4*a*c) != 0:\n    print((-b + d)/(2*a))\n    print((-b - d)/(2*a))\nelse :\n    print(\"No real roots exist\")",
      "metadata": {
        "trusted": true
      },
      "execution_count": 1,
      "outputs": [
        {
          "output_type": "stream",
          "name": "stdin",
          "text": "Enter coeffecient of x² 5\n"
        }
      ]
    },
    {
      "cell_type": "code",
      "source": "#5)\na,b,c = c,b,a\nprint(a,b,c)",
      "metadata": {},
      "execution_count": null,
      "outputs": []
    }
  ]
}