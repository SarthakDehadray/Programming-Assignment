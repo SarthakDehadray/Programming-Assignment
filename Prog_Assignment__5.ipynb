{
  "metadata": {
    "language_info": {
      "codemirror_mode": {
        "name": "python",
        "version": 3
      },
      "file_extension": ".py",
      "mimetype": "text/x-python",
      "name": "python",
      "nbconvert_exporter": "python",
      "pygments_lexer": "ipython3",
      "version": "3.8"
    },
    "kernelspec": {
      "name": "python",
      "display_name": "Pyolite",
      "language": "python"
    }
  },
  "nbformat_minor": 4,
  "nbformat": 4,
  "cells": [
    {
      "cell_type": "code",
      "source": "#1) Find LCM \ndef lcm(): \n  try:\n    k = int(input(\"Enter number1\"))\n    l = int(input(\"Enter number2\"))\n    if k > l:\n        greater = k\n    else:\n        greater = l\n    while(True):\n        if((greater%k == 0) and (greater%l == 0)):\n            lcm = greater\n            break\n        greater = greater + 1\n    print(lcm)\n  except:\n    print(\"Enter valid inputs\")\n    lcm()\nlcm()\n",
      "metadata": {
        "collapsed": true,
        "jupyter": {
          "outputs_hidden": true
        },
        "trusted": true
      },
      "execution_count": 1,
      "outputs": [
        {
          "name": "stdout",
          "text": "Enter valid inputs\n",
          "output_type": "stream"
        },
        {
          "name": "stderr",
          "text": "Future exception was never retrieved\nfuture: <Future finished exception=JsException(TypeError: Cannot read properties of null (reading 'sendInputRequest'))>\n",
          "output_type": "stream"
        },
        {
          "ename": "<class 'UnboundLocalError'>",
          "evalue": "local variable 'lcm' referenced before assignment",
          "traceback": [
            "\u001b[0;31m---------------------------------------------------------------------------\u001b[0m",
            "\u001b[0;31mTypeError\u001b[0m                                 Traceback (most recent call last)",
            "Input \u001b[0;32mIn [1]\u001b[0m, in \u001b[0;36mlcm\u001b[0;34m()\u001b[0m\n\u001b[1;32m      3\u001b[0m \u001b[38;5;28;01mtry\u001b[39;00m:\n\u001b[0;32m----> 4\u001b[0m   k \u001b[38;5;241m=\u001b[39m \u001b[38;5;28;43mint\u001b[39;49m\u001b[43m(\u001b[49m\u001b[38;5;28;43minput\u001b[39;49m\u001b[43m(\u001b[49m\u001b[38;5;124;43m\"\u001b[39;49m\u001b[38;5;124;43mEnter number1\u001b[39;49m\u001b[38;5;124;43m\"\u001b[39;49m\u001b[43m)\u001b[49m\u001b[43m)\u001b[49m\n\u001b[1;32m      5\u001b[0m   l \u001b[38;5;241m=\u001b[39m \u001b[38;5;28mint\u001b[39m(\u001b[38;5;28minput\u001b[39m(\u001b[38;5;124m\"\u001b[39m\u001b[38;5;124mEnter number2\u001b[39m\u001b[38;5;124m\"\u001b[39m))\n",
            "\u001b[0;31mTypeError\u001b[0m: int() argument must be a string, a bytes-like object or a real number, not 'Future'",
            "\nDuring handling of the above exception, another exception occurred:\n",
            "\u001b[0;31mUnboundLocalError\u001b[0m                         Traceback (most recent call last)",
            "Input \u001b[0;32mIn [1]\u001b[0m, in \u001b[0;36m<cell line: 19>\u001b[0;34m()\u001b[0m\n\u001b[1;32m     17\u001b[0m     \u001b[38;5;28mprint\u001b[39m(\u001b[38;5;124m\"\u001b[39m\u001b[38;5;124mEnter valid inputs\u001b[39m\u001b[38;5;124m\"\u001b[39m)\n\u001b[1;32m     18\u001b[0m     lcm()\n\u001b[0;32m---> 19\u001b[0m \u001b[43mlcm\u001b[49m\u001b[43m(\u001b[49m\u001b[43m)\u001b[49m\n",
            "Input \u001b[0;32mIn [1]\u001b[0m, in \u001b[0;36mlcm\u001b[0;34m()\u001b[0m\n\u001b[1;32m     16\u001b[0m \u001b[38;5;28;01mexcept\u001b[39;00m:\n\u001b[1;32m     17\u001b[0m   \u001b[38;5;28mprint\u001b[39m(\u001b[38;5;124m\"\u001b[39m\u001b[38;5;124mEnter valid inputs\u001b[39m\u001b[38;5;124m\"\u001b[39m)\n\u001b[0;32m---> 18\u001b[0m   \u001b[43mlcm\u001b[49m()\n",
            "\u001b[0;31mUnboundLocalError\u001b[0m: local variable 'lcm' referenced before assignment"
          ],
          "output_type": "error"
        }
      ]
    },
    {
      "cell_type": "code",
      "source": "#2) Find HCF\n\ndef hcf(x,y):\n    if x > y:\n        smaller = y\n    else:\n        smaller = x\n    for i in range(1,smaller+1):\n        if ((x%i == 0)and (y%i == 0)):\n            hcf = i\n    return hcf\nprint(\"HCF is \",hcf(4,12))\n",
      "metadata": {},
      "execution_count": null,
      "outputs": []
    },
    {
      "cell_type": "code",
      "source": "#dec to bin\ndef dec_bin(a):\n    if a > 1 :\n        dec_bin(a//2)\n    print(a%2,end = '')\ndec_bin(151)\nprint(\"\\n\")\n#dec to octal\ndef dec_oct(a):\n    if a > 1 :\n        dec_bin(a//8)\n    print(a%8,end = '')\ndec_oct(151)",
      "metadata": {
        "trusted": true
      },
      "execution_count": 15,
      "outputs": [
        {
          "name": "stdout",
          "text": "10010111\n\n100107",
          "output_type": "stream"
        }
      ]
    },
    {
      "cell_type": "code",
      "source": "#4) Find ASCII value of the Character\n\ninp = input(\"Enter a Character\")\nprint(\"The ASCII value of \", inp, \"is\", ord(inp))\n",
      "metadata": {},
      "execution_count": null,
      "outputs": []
    },
    {
      "cell_type": "code",
      "source": "#5)Simple Calculator with 4 basic operations\n\noperation = input((\"Please enter '+' for addition ,'*' for multiplication , '-' for subtraction, '/' for division\"))\ninput1 = int(input(\"Please Enter the first number\"))\ninput2 = int(input(\"Please Enter the second number\"))\n\nif operation == '+':\n    print(\"selected operation is addition\")\n    c = input1 + input2\n    print(c)\nelif operation == '*':\n    print(\"Selected operation is multiplication\")\n    c = input1*input2\n    print(c)\nelif operation == '/':\n    print(\"Selected operation is division\")\n    c = input1/input2\n    print(c)\nelse:\n    print(\"Selected operation is subtraction\")\n    c = input1-input2\n    print(c)",
      "metadata": {},
      "execution_count": null,
      "outputs": []
    }
  ]
}