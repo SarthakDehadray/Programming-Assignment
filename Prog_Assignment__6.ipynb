{
  "metadata": {
    "language_info": {
      "codemirror_mode": {
        "name": "python",
        "version": 3
      },
      "file_extension": ".py",
      "mimetype": "text/x-python",
      "name": "python",
      "nbconvert_exporter": "python",
      "pygments_lexer": "ipython3",
      "version": "3.8"
    },
    "kernelspec": {
      "name": "python",
      "display_name": "Pyolite",
      "language": "python"
    }
  },
  "nbformat_minor": 4,
  "nbformat": 4,
  "cells": [
    {
      "cell_type": "code",
      "source": "#1) Fibbonaci Sequence using recusrsion\ndef fib(n):\n   if n <= 1:\n      return n\n   else:\n      return (fib(n-1) + fib(n-2)) \n\nnterms = 5\nif nterms <= 0:\n   print(\"Please enter a positive integer\")\nelse:\n   for i in range(nterms):\n      print(fib(i))",
      "metadata": {},
      "execution_count": null,
      "outputs": []
    },
    {
      "cell_type": "code",
      "source": "#2) Factorial Program\ndef recur_factorial(n):\n   if n == 1:\n       return n\n   else:\n       return n*recur_factorial(n-1)\n\nnum = int(input(\"Enter a number\"))\n\n# check if the number is negative\nif num < 0:\n   print(\"Sorry, factorial does not exist for negative numbers\")\nelif num == 0:\n   print(\"The factorial of 0 is 1\")\nelse:\n   print(\"The factorial of\", num, \"is\", recur_factorial(num))",
      "metadata": {},
      "execution_count": null,
      "outputs": []
    },
    {
      "cell_type": "code",
      "source": "#3) Body Mass Index Calculation\nflag =  True\nwhile True:\n   try:\n      weight = int(input(\"Please Enter Weight in kg\"))\n      height = float(input(\"Please Enter Height in centimeter\"))\n      print(weight*10000/(height*height))\n      break\n   except:\n      print(\"Please enter a numeric value\")\n      flag = True",
      "metadata": {},
      "execution_count": null,
      "outputs": []
    },
    {
      "cell_type": "code",
      "source": "#4) Natural Logarithm\nimport math\nnumber = float(input(\"Enter a number\"))\nprint(math.log1p(number))",
      "metadata": {},
      "execution_count": null,
      "outputs": []
    },
    {
      "cell_type": "code",
      "source": "#5) Cube sum of first n natural numbers\nnumber = int(input(\"Enter a number\"))\nsummation = 0\nfor i in range(1,number+1):\n   k = i**3\n   summation = summation + k\nprint(summation)",
      "metadata": {},
      "execution_count": null,
      "outputs": []
    }
  ]
}