{
  "metadata": {
    "language_info": {
      "codemirror_mode": {
        "name": "python",
        "version": 3
      },
      "file_extension": ".py",
      "mimetype": "text/x-python",
      "name": "python",
      "nbconvert_exporter": "python",
      "pygments_lexer": "ipython3",
      "version": "3.8"
    },
    "kernelspec": {
      "name": "python",
      "display_name": "Pyolite",
      "language": "python"
    }
  },
  "nbformat_minor": 4,
  "nbformat": 4,
  "cells": [
    {
      "cell_type": "code",
      "source": "#1\n#Factorial of Numbers\nnumber = int(input(\"Enter a number\"))\nprod = 1\nfor i in range(1,number+1):\n    prod = prod * i\nprint(prod)",
      "metadata": {
        "trusted": true
      },
      "execution_count": 1,
      "outputs": [
        {
          "output_type": "stream",
          "name": "stdin",
          "text": "Enter a number 3\n"
        }
      ]
    },
    {
      "cell_type": "code",
      "source": "#2\n#Multiplication table\nnumber = int(input(\"Enter a number to generate its multiplication table\"))\nfor i in range(1,11):\n    print(number,\"*\",i,\"=\",number*i)\n",
      "metadata": {},
      "execution_count": null,
      "outputs": []
    },
    {
      "cell_type": "code",
      "source": "#3\n#Fibonacci Sequence\nn = 100\na = 0\nb = 1\ni = 1\nwhile i <= n:\n    c = a + b\n    a = b\n    b = c\n    print(a)\n    i = i + 1",
      "metadata": {},
      "execution_count": null,
      "outputs": []
    },
    {
      "cell_type": "code",
      "source": "#4 Armstrong Number\nnumber = input(\"Enter a number\")\nflag  = False\nsum = 0\nfor i in number:\n  n =int(i)\n  k = n**3\n  sum = sum + k\n  if sum == int(number):\n    flag = True\nif flag ==  True:\n  print(\"Armstrong Number\")\nelse:\n  print(\"Not an Armstrong Number\")",
      "metadata": {
        "trusted": true
      },
      "execution_count": 2,
      "outputs": [
        {
          "ename": "<class 'TypeError'>",
          "evalue": "'Future' object cannot be interpreted as an integer",
          "traceback": [
            "\u001b[0;31m---------------------------------------------------------------------------\u001b[0m",
            "\u001b[0;31mTypeError\u001b[0m                                 Traceback (most recent call last)",
            "Input \u001b[0;32mIn [2]\u001b[0m, in \u001b[0;36m<cell line: 2>\u001b[0;34m()\u001b[0m\n\u001b[1;32m      1\u001b[0m number \u001b[38;5;241m=\u001b[39m \u001b[38;5;28minput\u001b[39m(\u001b[38;5;124m\"\u001b[39m\u001b[38;5;124mEnter a number\u001b[39m\u001b[38;5;124m\"\u001b[39m)\n\u001b[0;32m----> 2\u001b[0m \u001b[38;5;28;01mfor\u001b[39;00m i \u001b[38;5;129;01min\u001b[39;00m \u001b[38;5;28mlen\u001b[39m(\u001b[38;5;28;43mrange\u001b[39;49m\u001b[43m(\u001b[49m\u001b[43mnumber\u001b[49m\u001b[43m)\u001b[49m):\n\u001b[1;32m      3\u001b[0m     \u001b[38;5;28mprint\u001b[39m(i)\n",
            "\u001b[0;31mTypeError\u001b[0m: 'Future' object cannot be interpreted as an integer"
          ],
          "output_type": "error"
        },
        {
          "output_type": "stream",
          "name": "stdin",
          "text": "Enter a number 12\n"
        }
      ]
    },
    {
      "cell_type": "code",
      "source": "#5 Armstrong Number in a range\ndef armstrong():\n  flag = False\n  l = []\n  try:\n    number = int(input(\"Enter a number\"))\n    for j in range(1,number+1):\n      k = str(j)\n      for i in k:\n        m = int(i)\n        l.append(m**3)\n      print(l)\n      l.clear()\n\n  except Exception as e:\n    print(\"Enter a valid input\")\n    armstrong()\n\n  else:\n    print(\"Task successfully completed\")\n\narmstrong()",
      "metadata": {},
      "execution_count": null,
      "outputs": []
    },
    {
      "cell_type": "code",
      "source": "#6 Sum of Natural Numbers\nk = int(input(\"Enter a number\"))\nn = 0 \nfor i in range(1,k+1):\n    n = n + i\nprint(n)",
      "metadata": {},
      "execution_count": null,
      "outputs": []
    },
    {
      "cell_type": "code",
      "source": "",
      "metadata": {},
      "execution_count": null,
      "outputs": []
    }
  ]
}